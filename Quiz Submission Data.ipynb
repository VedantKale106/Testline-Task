{
 "cells": [
  {
   "cell_type": "code",
   "execution_count": 21,
   "id": "6c6157bc-c943-456a-8063-9cdf9812859c",
   "metadata": {},
   "outputs": [
    {
     "name": "stdout",
     "output_type": "stream",
     "text": [
      "{'id': 336566, 'quiz_id': 43, 'user_id': '7ZXdz3zHuNcdg9agb5YpaOGLQqw2', 'submitted_at': '2025-01-17T15:51:29.859+05:30', 'created_at': '2025-01-17T15:51:29.871+05:30', 'updated_at': '2025-01-17T15:51:29.871+05:30', 'score': 32, 'trophy_level': 2, 'accuracy': '80 %', 'speed': '100', 'final_score': '30.0', 'negative_score': '2.0', 'correct_answers': 8, 'incorrect_answers': 2, 'source': 'live', 'type': 'topic', 'started_at': '2025-01-17T16:20:44.000+05:30', 'ended_at': '2025-01-17T16:21:28.000+05:30', 'duration': '15:00', 'better_than': 24, 'total_questions': 128, 'rank_text': 'Topic Rank - #2402', 'mistakes_corrected': 6, 'initial_mistake_count': 8, 'response_map': {'1837': 7363, '1848': 7407, '1852': 7423, '1862': 7464, '1877': 7525, '1878': 7529, '1900': 7617, '1917': 7685, '1934': 7750, '1964': 7872}, 'quiz': {'id': 43, 'name': None, 'title': 'Structural Organisation in Animals and Plants (7)', 'description': '', 'difficulty_level': None, 'topic': 'Structural Organisation in Animals', 'time': '2024-07-03T00:00:00.000+05:30', 'is_published': True, 'created_at': '2024-07-03T11:00:08.958+05:30', 'updated_at': '2024-09-23T18:43:27.751+05:30', 'duration': 128, 'end_time': '2024-07-04T00:00:00.000+05:30', 'negative_marks': '1.0', 'correct_answer_marks': '4.0', 'shuffle': True, 'show_answers': True, 'lock_solutions': False, 'is_form': False, 'show_mastery_option': False, 'reading_material': None, 'quiz_type': None, 'is_custom': False, 'banner_id': None, 'exam_id': None, 'show_unanswered': False, 'ends_at': '2025-01-18', 'lives': None, 'live_count': 'Free Test', 'coin_count': -1, 'questions_count': 128, 'daily_date': 'January 17, 2025', 'max_mistake_count': 15, 'reading_materials': []}, 'next_steps': [{'pageType': 'resultPage'}]}\n"
     ]
    }
   ],
   "source": [
    "import requests\n",
    "\n",
    "# Fetch the data from the URL\n",
    "url = \"https://api.jsonserve.com/rJvd7g\"\n",
    "response = requests.get(url)\n",
    "\n",
    "# Check if the request was successful\n",
    "if response.status_code == 200:\n",
    "    data = response.json()\n",
    "\n",
    "    # Print the structure of the JSON data to understand its format\n",
    "    print(data)  # This will show how the data is structured\n",
    "else:\n",
    "    print(\"Failed to retrieve data.\")\n"
   ]
  },
  {
   "cell_type": "code",
   "execution_count": null,
   "id": "38380df4-5532-4331-ac2d-2369fad424aa",
   "metadata": {},
   "outputs": [],
   "source": []
  }
 ],
 "metadata": {
  "kernelspec": {
   "display_name": "Python 3 (ipykernel)",
   "language": "python",
   "name": "python3"
  },
  "language_info": {
   "codemirror_mode": {
    "name": "ipython",
    "version": 3
   },
   "file_extension": ".py",
   "mimetype": "text/x-python",
   "name": "python",
   "nbconvert_exporter": "python",
   "pygments_lexer": "ipython3",
   "version": "3.12.4"
  }
 },
 "nbformat": 4,
 "nbformat_minor": 5
}
