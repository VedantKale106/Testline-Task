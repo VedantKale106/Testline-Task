{
 "cells": [
  {
   "cell_type": "code",
   "execution_count": 181,
   "id": "0adbd0dc-d42b-4056-9e47-0815e512cbb2",
   "metadata": {},
   "outputs": [],
   "source": [
    "import pandas as pd\n",
    "import requests\n",
    "\n",
    "# API URL\n",
    "url = \"https://api.jsonserve.com/XgAgFJ\"\n",
    "\n",
    "# Fetch data from API\n",
    "response = requests.get(url)\n",
    "\n",
    "# Check if request was successful\n",
    "if response.status_code == 200:\n",
    "    data = response.json()  # Convert response to JSON\n",
    "    df1 = pd.DataFrame(data)  # Convert JSON to DataFrame\n",
    "else:\n",
    "    print(\"Failed to fetch data:\", response.status_code)\n"
   ]
  },
  {
   "cell_type": "code",
   "execution_count": 182,
   "id": "48dfcb66-6bec-44d4-ab02-b5174c54419e",
   "metadata": {},
   "outputs": [
    {
     "data": {
      "text/plain": [
       "Index(['id', 'quiz_id', 'user_id', 'submitted_at', 'created_at', 'updated_at',\n",
       "       'score', 'trophy_level', 'accuracy', 'speed', 'final_score',\n",
       "       'negative_score', 'correct_answers', 'incorrect_answers', 'source',\n",
       "       'type', 'started_at', 'ended_at', 'duration', 'better_than',\n",
       "       'total_questions', 'rank_text', 'mistakes_corrected',\n",
       "       'initial_mistake_count', 'response_map', 'quiz'],\n",
       "      dtype='object')"
      ]
     },
     "execution_count": 182,
     "metadata": {},
     "output_type": "execute_result"
    }
   ],
   "source": [
    "df1.columns"
   ]
  },
  {
   "cell_type": "code",
   "execution_count": 183,
   "id": "b42dbe5b-c9dc-4bb3-9c93-b184a072c9c9",
   "metadata": {},
   "outputs": [],
   "source": [
    "pastquiz = df1"
   ]
  },
  {
   "cell_type": "code",
   "execution_count": 184,
   "id": "74833a5e-5e33-41ec-9db3-91f8d5ee2693",
   "metadata": {},
   "outputs": [],
   "source": [
    "pastquiz = pastquiz[['id','user_id','score','trophy_level','accuracy','final_score','better_than']]"
   ]
  },
  {
   "cell_type": "code",
   "execution_count": 185,
   "id": "7cac4ee5-6546-4278-a37e-e20eb008508b",
   "metadata": {},
   "outputs": [
    {
     "data": {
      "text/html": [
       "<div>\n",
       "<style scoped>\n",
       "    .dataframe tbody tr th:only-of-type {\n",
       "        vertical-align: middle;\n",
       "    }\n",
       "\n",
       "    .dataframe tbody tr th {\n",
       "        vertical-align: top;\n",
       "    }\n",
       "\n",
       "    .dataframe thead th {\n",
       "        text-align: right;\n",
       "    }\n",
       "</style>\n",
       "<table border=\"1\" class=\"dataframe\">\n",
       "  <thead>\n",
       "    <tr style=\"text-align: right;\">\n",
       "      <th></th>\n",
       "      <th>id</th>\n",
       "      <th>user_id</th>\n",
       "      <th>score</th>\n",
       "      <th>trophy_level</th>\n",
       "      <th>accuracy</th>\n",
       "      <th>final_score</th>\n",
       "      <th>better_than</th>\n",
       "    </tr>\n",
       "  </thead>\n",
       "  <tbody>\n",
       "    <tr>\n",
       "      <th>0</th>\n",
       "      <td>336497</td>\n",
       "      <td>YcDFSO4ZukTJnnFMgRNVwZTE4j42</td>\n",
       "      <td>108</td>\n",
       "      <td>2</td>\n",
       "      <td>90 %</td>\n",
       "      <td>105.0</td>\n",
       "      <td>107</td>\n",
       "    </tr>\n",
       "    <tr>\n",
       "      <th>1</th>\n",
       "      <td>336448</td>\n",
       "      <td>YcDFSO4ZukTJnnFMgRNVwZTE4j42</td>\n",
       "      <td>92</td>\n",
       "      <td>1</td>\n",
       "      <td>100 %</td>\n",
       "      <td>92.0</td>\n",
       "      <td>395</td>\n",
       "    </tr>\n",
       "    <tr>\n",
       "      <th>2</th>\n",
       "      <td>333330</td>\n",
       "      <td>YcDFSO4ZukTJnnFMgRNVwZTE4j42</td>\n",
       "      <td>116</td>\n",
       "      <td>2</td>\n",
       "      <td>96 %</td>\n",
       "      <td>115.0</td>\n",
       "      <td>115</td>\n",
       "    </tr>\n",
       "    <tr>\n",
       "      <th>3</th>\n",
       "      <td>333242</td>\n",
       "      <td>YcDFSO4ZukTJnnFMgRNVwZTE4j42</td>\n",
       "      <td>36</td>\n",
       "      <td>2</td>\n",
       "      <td>90 %</td>\n",
       "      <td>35.0</td>\n",
       "      <td>152</td>\n",
       "    </tr>\n",
       "    <tr>\n",
       "      <th>4</th>\n",
       "      <td>329504</td>\n",
       "      <td>YcDFSO4ZukTJnnFMgRNVwZTE4j42</td>\n",
       "      <td>36</td>\n",
       "      <td>3</td>\n",
       "      <td>31 %</td>\n",
       "      <td>16.0</td>\n",
       "      <td>35</td>\n",
       "    </tr>\n",
       "  </tbody>\n",
       "</table>\n",
       "</div>"
      ],
      "text/plain": [
       "       id                       user_id  score  trophy_level accuracy  \\\n",
       "0  336497  YcDFSO4ZukTJnnFMgRNVwZTE4j42    108             2     90 %   \n",
       "1  336448  YcDFSO4ZukTJnnFMgRNVwZTE4j42     92             1    100 %   \n",
       "2  333330  YcDFSO4ZukTJnnFMgRNVwZTE4j42    116             2     96 %   \n",
       "3  333242  YcDFSO4ZukTJnnFMgRNVwZTE4j42     36             2     90 %   \n",
       "4  329504  YcDFSO4ZukTJnnFMgRNVwZTE4j42     36             3     31 %   \n",
       "\n",
       "  final_score  better_than  \n",
       "0       105.0          107  \n",
       "1        92.0          395  \n",
       "2       115.0          115  \n",
       "3        35.0          152  \n",
       "4        16.0           35  "
      ]
     },
     "execution_count": 185,
     "metadata": {},
     "output_type": "execute_result"
    }
   ],
   "source": [
    "pastquiz.head()"
   ]
  },
  {
   "cell_type": "code",
   "execution_count": 186,
   "id": "e2351e9d-699f-442b-b2e3-04d12191f2d4",
   "metadata": {},
   "outputs": [
    {
     "name": "stdout",
     "output_type": "stream",
     "text": [
      "id              0\n",
      "score           0\n",
      "trophy_level    0\n",
      "better_than     0\n",
      "dtype: int64\n"
     ]
    },
    {
     "data": {
      "image/png": "[encoded data removed]",
      "text/plain": [
       "<Figure size 800x600 with 2 Axes>"
      ]
     },
     "metadata": {},
     "output_type": "display_data"
    }
   ],
   "source": [
    "import pandas as pd\n",
    "import matplotlib.pyplot as plt\n",
    "import seaborn as sns\n",
    "\n",
    "# Assuming pastquiz is already loaded\n",
    "\n",
    "# Select only numeric columns\n",
    "numeric_columns = pastquiz.select_dtypes(include=['number'])\n",
    "\n",
    "# Check for missing values\n",
    "print(numeric_columns.isnull().sum())\n",
    "\n",
    "# Compute correlation matrix\n",
    "correlation_matrix = numeric_columns.corr()\n",
    "\n",
    "# Heatmap visualization\n",
    "plt.figure(figsize=(8, 6))\n",
    "sns.heatmap(correlation_matrix, annot=True, cmap='coolwarm', fmt=\".2f\", linewidths=0.5)\n",
    "plt.title(\"Feature Correlation Heatmap (Numeric Columns)\")\n",
    "plt.show()\n"
   ]
  },
  {
   "cell_type": "code",
   "execution_count": null,
   "id": "c61134a5-e158-4e2f-8c5d-e0557f6e7ad3",
   "metadata": {},
   "outputs": [],
   "source": []
  },
  {
   "cell_type": "code",
   "execution_count": null,
   "id": "0c5f6d60-5fde-4b1d-88d5-e903c438326e",
   "metadata": {},
   "outputs": [],
   "source": []
  },
  {
   "cell_type": "code",
   "execution_count": null,
   "id": "f709c0d3-1130-4c9c-ac94-88477498c067",
   "metadata": {},
   "outputs": [],
   "source": []
  },
  {
   "cell_type": "code",
   "execution_count": null,
   "id": "7039fe59-a45d-49f7-a09f-4892899dd6e2",
   "metadata": {},
   "outputs": [],
   "source": []
  },
  {
   "cell_type": "code",
   "execution_count": null,
   "id": "72cb8353-98b3-41c7-adb6-ed58ce72dad3",
   "metadata": {},
   "outputs": [],
   "source": []
  },
  {
   "cell_type": "code",
   "execution_count": null,
   "id": "2ad08034-fe16-4c7b-ad81-a747228b5de7",
   "metadata": {},
   "outputs": [],
   "source": []
  },
  {
   "cell_type": "code",
   "execution_count": null,
   "id": "755481de-ee2b-4e8b-ac81-59957486b9dc",
   "metadata": {},
   "outputs": [],
   "source": []
  }
 ],
 "metadata": {
  "kernelspec": {
   "display_name": "Python 3 (ipykernel)",
   "language": "python",
   "name": "python3"
  },
  "language_info": {
   "codemirror_mode": {
    "name": "ipython",
    "version": 3
   },
   "file_extension": ".py",
   "mimetype": "text/x-python",
   "name": "python",
   "nbconvert_exporter": "python",
   "pygments_lexer": "ipython3",
   "version": "3.12.4"
  }
 },
 "nbformat": 4,
 "nbformat_minor": 5
}
